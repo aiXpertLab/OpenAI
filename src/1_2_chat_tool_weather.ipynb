{
 "cells": [
  {
   "cell_type": "code",
   "execution_count": 3,
   "id": "e43cc9f7-bea9-4e03-bf1b-9c78762b61c1",
   "metadata": {},
   "outputs": [],
   "source": [
    "import json\n",
    "import openai\n",
    "\n",
    "#step 1: Define 2 functions: self-defined function and text completions\n",
    "def get_weather(location, unit=\"fahrenheit\"):\n",
    "    if \"beijing\" in location.lower():\n",
    "        return json.dumps({\"location\": location, \"temperature\": \"11\", \"unit\": \"celsius\"})\n",
    "    elif \"tokyo\" in location.lower():\n",
    "        return json.dumps({\"location\": location, \"temperature\": \"33\", \"unit\": \"celsius\"})\n",
    "    else:\n",
    "        return json.dumps({\"location\": location, \"temperature\": \"22\", \"unit\": \"celsius\"})\n",
    "\n",
    "def chat_completions(parameter_message):\n",
    "    \n",
    "    response = openai.chat.completions.create(\n",
    "        model    = \"gpt-3.5-turbo-1106\",\n",
    "        messages = parameter_message,\n",
    "        tools    = ai_function,\n",
    "        tool_choice=\"auto\",  # auto is default, but we'll be explicit\n",
    "    )\n",
    "\n",
    "    return response.choices[0].message\n",
    "\n",
    "#step 2: Define parameters for text completion, and functions for transferring to Tools\n",
    "\n",
    "ai_prompt = [{\"role\"   : \"user\",\n",
    "              \"content\": \"What's the weather in tokyo?\"}]\n",
    "\n",
    "ai_function = [\n",
    "    {\n",
    "        \"type\"    : \"function\",\n",
    "        \"function\": {\n",
    "            \"name\": \"get_weather\",\n",
    "            \"parameters\": {\n",
    "                \"type\": \"object\",\n",
    "                \"properties\": {\n",
    "                    \"location\": {\n",
    "                        \"type\": \"string\",\n",
    "                        \"description\": \"The city and state, e.g. San Francisco, CA\",\n",
    "                    },\n",
    "                    \"unit\": \n",
    "                        {\"type\": \"string\", \n",
    "                         \"enum\": [\"celsius\", \"fahrenheit\"]\n",
    "                    },\n",
    "                },\n",
    "                \"required\": [\"location\"],\n",
    "            },\n",
    "        },\n",
    "    }\n",
    "]\n",
    "\n"
   ]
  },
  {
   "cell_type": "code",
   "execution_count": 4,
   "id": "fbd79f66-436e-4472-8022-350f61008e0f",
   "metadata": {},
   "outputs": [
    {
     "ename": "NameError",
     "evalue": "name 'response_message' is not defined",
     "output_type": "error",
     "traceback": [
      "\u001b[1;31m---------------------------------------------------------------------------\u001b[0m",
      "\u001b[1;31mNameError\u001b[0m                                 Traceback (most recent call last)",
      "Cell \u001b[1;32mIn[4], line 5\u001b[0m\n\u001b[0;32m      2\u001b[0m first_response \u001b[38;5;241m=\u001b[39m chat_completions(ai_prompt)\n\u001b[0;32m      3\u001b[0m tool_calls \u001b[38;5;241m=\u001b[39m first_response\u001b[38;5;241m.\u001b[39mtool_calls\n\u001b[1;32m----> 5\u001b[0m \u001b[38;5;28mprint\u001b[39m(\u001b[38;5;124m\"\u001b[39m\u001b[38;5;130;01m\\n\u001b[39;00m\u001b[38;5;124mtool_calls --> \u001b[39m\u001b[38;5;124m\"\u001b[39m, response_message\u001b[38;5;241m.\u001b[39mtool_calls)\n",
      "\u001b[1;31mNameError\u001b[0m: name 'response_message' is not defined"
     ]
    }
   ],
   "source": [
    "# step 3: first round call text completions, to get the response_message/tool_calls\n",
    "first_response = chat_completions(ai_prompt)\n",
    "tool_calls = first_response.tool_calls\n"
   ]
  },
  {
   "cell_type": "code",
   "execution_count": 5,
   "id": "6d6f0592",
   "metadata": {},
   "outputs": [
    {
     "name": "stdout",
     "output_type": "stream",
     "text": [
      "\n",
      "tool_calls -->  [ChatCompletionMessageToolCall(id='call_5zh5MOlrkF8R8EsQEyMlfb5n', function=Function(arguments='{\"location\":\"Tokyo\",\"unit\":\"celsius\"}', name='get_weather'), type='function')]\n"
     ]
    }
   ],
   "source": [
    "print(\"\\ntool_calls --> \", first_response.tool_calls)"
   ]
  },
  {
   "cell_type": "code",
   "execution_count": 6,
   "id": "b1d9f308-32e3-4fc4-9f1e-7f5355e8fa22",
   "metadata": {},
   "outputs": [
    {
     "name": "stdout",
     "output_type": "stream",
     "text": [
      "\n",
      "final msg1 -->  [{'role': 'user', 'content': \"What's the weather in tokyo?\"}, ChatCompletionMessage(content=None, role='assistant', function_call=None, tool_calls=[ChatCompletionMessageToolCall(id='call_5zh5MOlrkF8R8EsQEyMlfb5n', function=Function(arguments='{\"location\":\"Tokyo\",\"unit\":\"celsius\"}', name='get_weather'), type='function')]), {'tool_call_id': 'call_5zh5MOlrkF8R8EsQEyMlfb5n', 'role': 'tool', 'name': 'get_weather', 'content': '{\"location\": \"Tokyo\", \"temperature\": \"33\", \"unit\": \"celsius\"}'}]\n",
      "\n",
      " second_response -->  ChatCompletionMessage(content='The weather in Tokyo is 33°C. Enjoy the sunny day!', role='assistant', function_call=None, tool_calls=None)\n"
     ]
    }
   ],
   "source": [
    "if tool_calls:\n",
    "        available_functions = {\n",
    "            \"get_weather\": get_weather,\n",
    "        }  # only one function in this example, but you can have multiple\n",
    "        ai_prompt.append(first_response)  # step 4: extend conversation with assistant's reply\n",
    "        for tool_call in tool_calls:\n",
    "            function_name = tool_call.function.name\n",
    "            function_to_call = available_functions[function_name]\n",
    "            function_args = json.loads(tool_call.function.arguments)\n",
    "            function_response = function_to_call(\n",
    "                location=function_args.get(\"location\"),\n",
    "                unit=function_args.get(\"unit\"),\n",
    "            )\n",
    "            ai_prompt.append(\n",
    "                {\n",
    "                    \"tool_call_id\": tool_call.id,\n",
    "                    \"role\": \"tool\",\n",
    "                    \"name\": function_name,\n",
    "                    \"content\": function_response,\n",
    "                }\n",
    "            )  # step 5: extend conversation with function response\n",
    "        print(\"\\nfinal msg1 --> \", ai_prompt)\n",
    "        second_response = chat_completions(ai_prompt)  # get a new response from the model where it can see the function response\n",
    "        print(\"\\n second_response --> \", second_response)"
   ]
  }
 ],
 "metadata": {
  "kernelspec": {
   "display_name": "Python 3 (ipykernel)",
   "language": "python",
   "name": "python3"
  },
  "language_info": {
   "codemirror_mode": {
    "name": "ipython",
    "version": 3
   },
   "file_extension": ".py",
   "mimetype": "text/x-python",
   "name": "python",
   "nbconvert_exporter": "python",
   "pygments_lexer": "ipython3",
   "version": "3.11.5"
  }
 },
 "nbformat": 4,
 "nbformat_minor": 5
}
