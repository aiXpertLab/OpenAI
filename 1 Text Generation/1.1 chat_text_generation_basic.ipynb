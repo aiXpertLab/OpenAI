{
 "cells": [
  {
   "cell_type": "code",
   "execution_count": 1,
   "id": "c21b1ca5",
   "metadata": {},
   "outputs": [
    {
     "name": "stdout",
     "output_type": "stream",
     "text": [
      "ChatCompletionMessage(content='As an AI, I don\\'t have personal opinions. The assessment of who the \"greatest\" president is can vary greatly depending on individual perspectives, values, and historical context. There are many factors to consider, including political achievements, leadership style, and the impact of their policies. It ultimately depends on the criteria and values one uses to evaluate presidential greatness.', role='assistant', function_call=None, tool_calls=None)\n",
      "As an AI, I don't have personal opinions. The assessment of who the \"greatest\" president is can vary greatly depending on individual perspectives, values, and historical context. There are many factors to consider, including political achievements, leadership style, and the impact of their policies. It ultimately depends on the criteria and values one uses to evaluate presidential greatness.\n",
      "assistant\n",
      "chatcmpl-8keN8d8z0ybrvp5QbSYTWg2gUlSD8\n",
      "gpt-3.5-turbo-1106\n",
      "CompletionUsage(completion_tokens=72, prompt_tokens=21, total_tokens=93)\n"
     ]
    }
   ],
   "source": [
    "# POST https://api.openai.com/v1/chat/completions\n",
    "\n",
    "import openai\n",
    "\n",
    "response = openai.chat.completions.create(    \n",
    "  model=\"gpt-3.5-turbo-1106\",\n",
    "  messages=[\n",
    "    {\"role\": \"system\",      \"content\": \"You are a helpful assistant.\"},\n",
    "    {\"role\": \"user\",        \"content\": \"Maryland capital?\"}\n",
    "  ]\n",
    ")\n",
    "\n",
    "print(response.choices[0].message)\n",
    "print(response.choices[0].message.content)\n",
    "print(response.choices[0].message.role)\n",
    "print(response.id)\n",
    "print(response.model)\n",
    "print(response.usage)"
   ]
  }
 ],
 "metadata": {
  "kernelspec": {
   "display_name": "Python 3 (ipykernel)",
   "language": "python",
   "name": "python3"
  },
  "language_info": {
   "codemirror_mode": {
    "name": "ipython",
    "version": 3
   },
   "file_extension": ".py",
   "mimetype": "text/x-python",
   "name": "python",
   "nbconvert_exporter": "python",
   "pygments_lexer": "ipython3",
   "version": "3.12.1"
  }
 },
 "nbformat": 4,
 "nbformat_minor": 5
}
