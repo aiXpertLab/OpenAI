{
 "cells": [
  {
   "cell_type": "code",
   "execution_count": 13,
   "id": "564ceaae-294f-4661-8d5c-03a7ad788ea4",
   "metadata": {},
   "outputs": [
    {
     "name": "stdout",
     "output_type": "stream",
     "text": [
      "E:\\github\\OpenAI\n",
      "          text\n",
      "0        apple\n",
      "1       banana\n",
      "2       cherry\n",
      "3          dog\n",
      "4          cat\n",
      "5        house\n",
      "6          car\n",
      "7         tree\n",
      "8        phone\n",
      "9     computer\n",
      "10  television\n",
      "11        book\n",
      "12       music\n",
      "13        food\n",
      "14       water\n",
      "15         sky\n",
      "16         air\n",
      "17         sun\n",
      "18        moon\n",
      "19        star\n",
      "20       ocean\n",
      "21        desk\n",
      "22         bed\n"
     ]
    }
   ],
   "source": [
    "import os\n",
    "import openai\n",
    "import pandas as pd\n",
    "import numpy as np\n",
    "\n",
    "from utils.embeddings_utils import get_embedding\n",
    "\n",
    "print(os.getcwd())\n",
    "\n",
    "df=pd.read_csv('myword.csv')\n",
    "# get the embedding for each word in the dataframe\n",
    "df['embedding'] = df['text'].apply(lambda x: get_embedding(x, engine='text-embedding-ada-002'))\n",
    "\n",
    "df.to_csv('embeddings.csv')"
   ]
  }
 ],
 "metadata": {
  "kernelspec": {
   "display_name": "Python 3 (ipykernel)",
   "language": "python",
   "name": "python3"
  },
  "language_info": {
   "codemirror_mode": {
    "name": "ipython",
    "version": 3
   },
   "file_extension": ".py",
   "mimetype": "text/x-python",
   "name": "python",
   "nbconvert_exporter": "python",
   "pygments_lexer": "ipython3",
   "version": "3.11.5"
  }
 },
 "nbformat": 4,
 "nbformat_minor": 5
}
